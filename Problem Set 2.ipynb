{
 "cells": [
  {
   "cell_type": "markdown",
   "id": "2b1e463b",
   "metadata": {},
   "source": [
    "# Q1 \n",
    "What value is displayed when the last expression (a) is evaluated? Explain why?"
   ]
  },
  {
   "cell_type": "code",
   "execution_count": 32,
   "id": "44d26941",
   "metadata": {},
   "outputs": [
    {
     "name": "stdout",
     "output_type": "stream",
     "text": [
      "b(3) = None\n",
      "b(4) = None\n",
      "b(5) = None\n",
      "a is 6\n"
     ]
    }
   ],
   "source": [
    "a = 0\n",
    "def b(v):\n",
    "    global a\n",
    "    a = c(a)\n",
    "    \n",
    "def c(a):\n",
    "    return a + 2\n",
    "print('b(3) = {}'.format(b(3)))\n",
    "print('b(4) = {}'.format(b(3)))\n",
    "print('b(5) = {}'.format(b(3)))\n",
    "print('a is {}'.format(a))"
   ]
  },
  {
   "cell_type": "code",
   "execution_count": null,
   "id": "f54b0cf9",
   "metadata": {},
   "outputs": [],
   "source": [
    "Explaination of the a value\n",
    "First execution a=0 which implies c(0) and returns 2\n",
    "Second execution a=2(return from our first execution) which implies c(2) and returns 4\n",
    "Third execution a=4(return from our second execution)which implies c(0) and returns 6\n",
    "Here, the last value of a is 6, since in the function is executed thrice."
   ]
  },
  {
   "cell_type": "markdown",
   "id": "710d4fab",
   "metadata": {},
   "source": [
    "# Q2 \n",
    "To modify function fileLength() so that a friendly message is printed incase of error."
   ]
  },
  {
   "cell_type": "code",
   "execution_count": 3,
   "id": "321748ee",
   "metadata": {},
   "outputs": [
    {
     "name": "stdout",
     "output_type": "stream",
     "text": [
      "100\n",
      "File idterm.py not found.\n"
     ]
    }
   ],
   "source": [
    "def fileLength(filename):\n",
    "    try:\n",
    "        infile = open(filename,'r')\n",
    "        task = len(infile.readlines())\n",
    "        print(task)\n",
    "#here exception is created, so that we can modify the error message\n",
    "    except FileNotFoundError:\n",
    "        print('File',filename,'not found.')\n",
    "fileLength('Python 200508515.py')\n",
    "fileLength('idterm.py')"
   ]
  },
  {
   "cell_type": "markdown",
   "id": "0b5c73c0",
   "metadata": {},
   "source": [
    "# Q3 \n",
    "Write a class named Marsupial and its subclass Kangaroo such that they can be used as shown below: "
   ]
  },
  {
   "cell_type": "code",
   "execution_count": 25,
   "id": "53928152",
   "metadata": {},
   "outputs": [
    {
     "data": {
      "text/plain": [
       "['doll', 'firetruck', 'kitten']"
      ]
     },
     "execution_count": 25,
     "metadata": {},
     "output_type": "execute_result"
    }
   ],
   "source": [
    "class Marsupial:\n",
    "    def __init__(self):\n",
    "        self.pouch = []\n",
    "    def put_in_pouch(self, thing):\n",
    "        self.pouch.append(thing)\n",
    "    def pouch_contents(self):\n",
    "        return self.pouch\n",
    "        \n",
    "m = Marsupial()\n",
    "m.put_in_pouch('doll')\n",
    "m.put_in_pouch('firetruck')\n",
    "m.put_in_pouch('kitten')\n",
    "m.pouch_contents()"
   ]
  },
  {
   "cell_type": "code",
   "execution_count": 51,
   "id": "fbea1c38",
   "metadata": {},
   "outputs": [
    {
     "name": "stdout",
     "output_type": "stream",
     "text": [
      "I am a Kangaroo located at coordinates(0,0)\n",
      "['doll', 'firetruck', 'kitten']\n",
      "I am a Kangaroo located at coordinates(3,0)\n"
     ]
    }
   ],
   "source": [
    "class Kangaroo(Marsupial):\n",
    "    def __init__(self,xcoord=0,ycoord=0):\n",
    "        Marsupial.__init__(self)\n",
    "        self.x = xcoord\n",
    "        self.y = ycoord\n",
    "    def get(self):\n",
    "        return(self.x,self.y)\n",
    "    def __repr__(self):\n",
    "        return 'I am a Kangaroo located at coordinates({},{})'.format(self.x,self.y)\n",
    "    def jump(self,dx,dy):\n",
    "        self.x+=dx\n",
    "        self.y+=dy\n",
    "k = Kangaroo(0,0)\n",
    "print(k)\n",
    "k.put_in_pouch('doll')\n",
    "k.put_in_pouch('firetruck')\n",
    "k.put_in_pouch('kitten')\n",
    "print(k.pouch_contents())\n",
    "k.jump(1,0)\n",
    "k.jump(1,0)\n",
    "k.jump(1,0)\n",
    "print(k)"
   ]
  },
  {
   "cell_type": "markdown",
   "id": "602d8e61",
   "metadata": {},
   "source": [
    "# Q4 \n",
    "Write function collatz() that takes a positive integer x as input and prints the Collatz sequence starting at x & ends at 1."
   ]
  },
  {
   "cell_type": "code",
   "execution_count": 9,
   "id": "46a9edb5",
   "metadata": {},
   "outputs": [
    {
     "name": "stdout",
     "output_type": "stream",
     "text": [
      "collatz(1)\n",
      "1\n",
      "collatz(10)\n",
      "10\n",
      "5\n",
      "16\n",
      "8\n",
      "4\n",
      "2\n",
      "1\n"
     ]
    }
   ],
   "source": [
    "def collatz(x):\n",
    "#since x is a positive integer\n",
    "    if(x < 1): \n",
    "        print('Error: x takes positive integer values only')\n",
    "    else:\n",
    "#x takes value 1  \n",
    "        if(x == 1): \n",
    "            print(1)\n",
    "            return \n",
    "\n",
    "        print(int(x))\n",
    "#x is odd   \n",
    "        if(x%2 == 0): \n",
    "            x = x/2\n",
    "#x is even       \n",
    "        else:\n",
    "            x = (3*x)+1\n",
    "\n",
    "        return(collatz(int(x)))\n",
    "print('collatz(1)')\n",
    "collatz(1)\n",
    "print('collatz(10)')\n",
    "collatz(10)"
   ]
  },
  {
   "cell_type": "markdown",
   "id": "83bfed49",
   "metadata": {},
   "source": [
    "# Q5\n",
    "Write a recursive method binary that takes input n and prints its binary representation."
   ]
  },
  {
   "cell_type": "code",
   "execution_count": 2,
   "id": "6b840ff4",
   "metadata": {},
   "outputs": [
    {
     "name": "stdout",
     "output_type": "stream",
     "text": [
      "binary(0)\n",
      "0\n",
      "binary(1)\n",
      "1\n",
      "binary(3)\n",
      "11\n",
      "binary(9)\n",
      "1001\n"
     ]
    }
   ],
   "source": [
    "def binary(n):\n",
    "    if(n < 0): \n",
    "        print('Error: n should be non negative')\n",
    "    elif(n==0):\n",
    "        print('0')\n",
    "    elif(n==1):\n",
    "        print('1')\n",
    "#n greater than one will come in else   \n",
    "    else:                   \n",
    "        print (n % 2, end = '')\n",
    "        binary(n//2)\n",
    "print('binary(0)')\n",
    "binary(0)\n",
    "print('binary(1)')\n",
    "binary(1)\n",
    "print('binary(3)')\n",
    "binary(3)\n",
    "print('binary(9)')\n",
    "binary(9)"
   ]
  },
  {
   "cell_type": "markdown",
   "id": "2d5630bc",
   "metadata": {},
   "source": [
    "# Q6\n",
    "Implement a class named HeadingParser that can be used to parse an HTML document, and retrieve and print all the headings in the document. You should implement your class as a subclass of HTMLParser, defined in Standard Library module html.parser. When fed a string containing HTML code, your class should print the headings, one per line and in the order in which they appear in the document.Each heading should be indented as follows: an h1 heading should haveindentation 0, and h2 heading should have indentation 1, etc. Test your implementation using w3c.html."
   ]
  },
  {
   "cell_type": "code",
   "execution_count": 39,
   "id": "a5e198ad",
   "metadata": {},
   "outputs": [
    {
     "name": "stdout",
     "output_type": "stream",
     "text": [
      "\n",
      "\n",
      "\n",
      "\n",
      "  \n",
      "W3C Mission\n",
      "\n",
      "\t\n",
      "Principles\n",
      "\n",
      " \n",
      "\n",
      "\n",
      "\n",
      "\n",
      "\n"
     ]
    }
   ],
   "source": [
    "from html.parser import HTMLParser            \n",
    "\n",
    "class HeadingParser(HTMLParser):        \n",
    "  \n",
    "    def __init__(self):                    \n",
    "        HTMLParser.__init__(self)\n",
    "        self.url = 0 \n",
    "        \n",
    "    def handle_starttag(self, tag, attrs):                             \n",
    "        if tag[0] == 'h':\n",
    "            self.url += 1                                     \n",
    "        else:\n",
    "            self.url = 0\n",
    "        \n",
    "            \n",
    "    def handle_data(self, output):            \n",
    "        if self.url:\n",
    "            print('{}{}'.format(self.url*'', output))\n",
    "\n",
    "infile = open('w3c.html')\n",
    "content = infile.read()\n",
    "infile.close()\n",
    "hp = HeadingParser()\n",
    "hp.feed(content)"
   ]
  },
  {
   "cell_type": "markdown",
   "id": "68ef6a26",
   "metadata": {},
   "source": [
    "# Q7\n",
    "Implement recursive function webdir() that takes as input: a URL (as a string) and non-negative integers depth and indent. Your function should visit every web page reachable from the starting URL web page in depth clicks or less, and print each web page's URL. As shown below, indentation, specified by indent, should be used to indicate the depth of a URL."
   ]
  },
  {
   "cell_type": "code",
   "execution_count": 19,
   "id": "15780b15",
   "metadata": {},
   "outputs": [
    {
     "name": "stdout",
     "output_type": "stream",
     "text": [
      " http://reed.cs.depaul.edu/lperkovic/test1.html\n",
      "         http://reed.cs.depaul.edu/lperkovic/test2.html\n",
      "                 http://reed.cs.depaul.edu/lperkovic/test4.html\n",
      "         http://reed.cs.depaul.edu/lperkovic/test3.html\n",
      "                 http://reed.cs.depaul.edu/lperkovic/test4.html\n"
     ]
    }
   ],
   "source": [
    "from urllib.request import urlopen\n",
    "from urllib.parse import urljoin\n",
    "from html.parser import HTMLParser\n",
    "class Collector(HTMLParser):\n",
    "#this will collect hyperlink URLs into a list\n",
    "\n",
    "    def __init__(self, url):\n",
    "      \n",
    "        HTMLParser.__init__(self)\n",
    "        self.url = url\n",
    "        self.url_links = []\n",
    "    def handle_starttag(self,tag, attrs):\n",
    "#To collects hyperlink URLs in their absolute format.\n",
    "        if tag == 'a':\n",
    "            for attributes in attrs:\n",
    "                if attributes[0] == 'href':\n",
    "                    # construct absolute URL\n",
    "                    absolute = urljoin(self.url, attributes[1])\n",
    "                    if absolute[:4] == 'http': \n",
    "                        self.links.append(absolute)\n",
    "\n",
    "\n",
    "    def getLinks(self):\n",
    "        \n",
    "        return self.url_links\n",
    "a = 0\n",
    "def webdir(url, depth, a):\n",
    "    depth = depth - 1    \n",
    "    print(a*'  ', url)         \n",
    "\n",
    "    objective = urlopen(url).read().decode()\n",
    "    collection = Appender(url)\n",
    "    collection.feed(objective)\n",
    "    urls = collection.append() \n",
    " \n",
    "    url_links = urls\n",
    "    a= a + 4\n",
    "    for i in url_links:\n",
    "        if depth < 0 or a < 0:\n",
    "            return 1\n",
    "        else:\n",
    "            webdir(i, depth, a)\n",
    "webdir('http://reed.cs.depaul.edu/lperkovic/test1.html', 2, 0)"
   ]
  },
  {
   "cell_type": "markdown",
   "id": "2a2d4a4f",
   "metadata": {},
   "source": [
    "# Q8\n",
    "Write SQL queries on the below database table that return:\n",
    "referred from:https://www.tutorialspoint.com/sqlite/sqlite_python.htm"
   ]
  },
  {
   "cell_type": "code",
   "execution_count": 98,
   "id": "6d54995e",
   "metadata": {
    "scrolled": true
   },
   "outputs": [
    {
     "name": "stdout",
     "output_type": "stream",
     "text": [
      "Opened database successfully\n"
     ]
    },
    {
     "ename": "OperationalError",
     "evalue": "table mydb already exists",
     "output_type": "error",
     "traceback": [
      "\u001b[1;31m---------------------------------------------------------------------------\u001b[0m",
      "\u001b[1;31mOperationalError\u001b[0m                          Traceback (most recent call last)",
      "\u001b[1;32m~\\AppData\\Local\\Temp/ipykernel_9116/4070128013.py\u001b[0m in \u001b[0;36m<module>\u001b[1;34m\u001b[0m\n\u001b[0;32m      4\u001b[0m \u001b[0mprint\u001b[0m \u001b[1;33m(\u001b[0m\u001b[1;34m\"Opened database successfully\"\u001b[0m\u001b[1;33m)\u001b[0m\u001b[1;33m;\u001b[0m\u001b[1;33m\u001b[0m\u001b[1;33m\u001b[0m\u001b[0m\n\u001b[0;32m      5\u001b[0m \u001b[1;33m\u001b[0m\u001b[0m\n\u001b[1;32m----> 6\u001b[1;33m \u001b[0mconnection\u001b[0m\u001b[1;33m.\u001b[0m\u001b[0mexecute\u001b[0m\u001b[1;33m(\u001b[0m\u001b[1;34m'''CREATE TABLE mydb(City varchar(50), Country varchar(50), Season varchar(50),Temperature float, Rainfall float);'''\u001b[0m\u001b[1;33m)\u001b[0m\u001b[1;33m\u001b[0m\u001b[1;33m\u001b[0m\u001b[0m\n\u001b[0m\u001b[0;32m      7\u001b[0m \u001b[0mprint\u001b[0m \u001b[1;33m(\u001b[0m\u001b[1;34m\"Table created successfully\"\u001b[0m\u001b[1;33m)\u001b[0m\u001b[1;33m;\u001b[0m\u001b[1;33m\u001b[0m\u001b[1;33m\u001b[0m\u001b[0m\n\u001b[0;32m      8\u001b[0m \u001b[1;33m\u001b[0m\u001b[0m\n",
      "\u001b[1;31mOperationalError\u001b[0m: table mydb already exists"
     ]
    }
   ],
   "source": [
    "import sqlite3\n",
    "\n",
    "connection = sqlite3.connect('test.db')\n",
    "print (\"Opened database successfully\");\n",
    "\n",
    "connection.execute('''CREATE TABLE mydb(City varchar(50), Country varchar(50), Season varchar(50),Temperature float, Rainfall float);''')\n",
    "print (\"Table created successfully\");\n",
    "\n",
    "import sqlite3\n",
    "\n",
    "connection = sqlite3.connect('test.db')\n",
    "\n",
    "connection.execute(\"INSERT INTO mydb (City,Country,Season,Temperature,Rainfall) \\\n",
    "      VALUES ('Mumbai','India','Winter','24.8','5.9')\");\n",
    "\n",
    "connection.execute(\"INSERT INTO mydb (City,Country,Season,Temperature,Rainfall)\\\n",
    "      VALUES ('Mumbai','India','Spring','28.4','16.2')\");\n",
    "\n",
    "connection.execute(\"INSERT INTO mydb (City,Country,Season,Temperature,Rainfall) \\\n",
    "      VALUES ('Mumbai','India','Summer','27.9','1549.4')\");\n",
    "\n",
    "connection.execute(\"INSERT INTO mydb (City,Country,Season,Temperature,Rainfall) \\\n",
    "      VALUES ('Mumbai','India','Fall','27.6','346.0')\");\n",
    "\n",
    "connection.execute(\"INSERT INTO mydb (City,Country,Season,Temperature,Rainfall) \\\n",
    "      VALUES ('London','United Kingdom','Winter','4.2','207.7')\");\n",
    "\n",
    "connection.execute(\"INSERT INTO mydb (City,Country,Season,Temperature,Rainfall) \\\n",
    "      VALUES ('London','United Kingdom','Spring','8.3','169.6')\");\n",
    "\n",
    "connection.execute(\"INSERT INTO mydb (City,Country,Season,Temperature,Rainfall) \\\n",
    "      VALUES ('London','United Kingdom','Summer','15.7','157.0')\");\n",
    "\n",
    "connection.execute(\"INSERT INTO mydb (City,Country,Season,Temperature,Rainfall) \\\n",
    "      VALUES ('London','United Kingdom','Fall','10.4','218.5')\");\n",
    "\n",
    "connection.execute(\"INSERT INTO mydb (City,Country,Season,Temperature,Rainfall) \\\n",
    "      VALUES ('Cairo','Egypt','Winter','13.6','16.5')\");\n",
    "\n",
    "connection.execute(\"INSERT INTO mydb (City,Country,Season,Temperature,Rainfall) \\\n",
    "      VALUES ('Cairo','Egypt','Spring','20.7','6.5')\");\n",
    "\n",
    "connection.execute(\"INSERT INTO mydb (City,Country,Season,Temperature,Rainfall) \\\n",
    "      VALUES ('Cairo','Egypt','Summer','27.7','0.1')\");\n",
    "\n",
    "connection.execute(\"INSERT INTO mydb (City,Country,Season,Temperature,Rainfall) \\\n",
    "      VALUES ('Cairo','Egypt','Fall','22.2','4.5')\");\n",
    "connection.commit()\n",
    "#the error is because the command was executed before in this section."
   ]
  },
  {
   "cell_type": "code",
   "execution_count": 71,
   "id": "02b8f6b0",
   "metadata": {},
   "outputs": [
    {
     "name": "stdout",
     "output_type": "stream",
     "text": [
      "('Mumbai', 'India', 'Winter', 24.8, 5.9)\n",
      "('Mumbai', 'India', 'Spring', 28.4, 16.2)\n",
      "('Mumbai', 'India', 'Summer', 27.9, 1549.4)\n",
      "('Mumbai', 'India', 'Fall', 27.6, 346.0)\n",
      "('London', 'United Kingdom', 'Winter', 4.2, 207.7)\n",
      "('London', 'United Kingdom', 'Spring', 8.3, 169.6)\n",
      "('London', 'United Kingdom', 'Summer', 15.7, 157.0)\n",
      "('London', 'United Kingdom', 'Fall', 10.4, 218.5)\n",
      "('Cairo', 'Egypt', 'Winter', 13.6, 16.5)\n",
      "('Cairo', 'Egypt', 'Spring', 20.7, 6.5)\n",
      "('Cairo', 'Egypt', 'Summer', 27.7, 0.1)\n",
      "('Cairo', 'Egypt', 'Fall', 22.2, 4.5)\n"
     ]
    }
   ],
   "source": [
    "#contents of mydb\n",
    "cursor = conn.execute(\"SELECT * from mydb\")\n",
    "output = cursor.fetchall()\n",
    "\n",
    "for x in output:\n",
    "    print(x)"
   ]
  },
  {
   "cell_type": "code",
   "execution_count": 91,
   "id": "f25fee01",
   "metadata": {},
   "outputs": [
    {
     "name": "stdout",
     "output_type": "stream",
     "text": [
      "All the temperature data:\n",
      "(24.8,)\n",
      "(28.4,)\n",
      "(27.9,)\n",
      "(27.6,)\n",
      "(4.2,)\n",
      "(8.3,)\n",
      "(15.7,)\n",
      "(10.4,)\n",
      "(13.6,)\n",
      "(20.7,)\n",
      "(27.7,)\n",
      "(22.2,)\n"
     ]
    }
   ],
   "source": [
    "#a\n",
    "cursor = conn.execute(\"Select Temperature from mydb\")\n",
    "output = cursor.fetchall()\n",
    "print('All the temperature data:')\n",
    "for x in output:\n",
    "    print(x)"
   ]
  },
  {
   "cell_type": "code",
   "execution_count": 90,
   "id": "00aecfa4",
   "metadata": {
    "scrolled": true
   },
   "outputs": [
    {
     "name": "stdout",
     "output_type": "stream",
     "text": [
      "All the cities, but without repetition:\n",
      "('Mumbai',)\n",
      "('London',)\n",
      "('Cairo',)\n"
     ]
    }
   ],
   "source": [
    "#b\n",
    "cursor = conn.execute(\"Select Distinct City from mydb\")\n",
    "output = cursor.fetchall()\n",
    "print('All the cities, but without repetition:')\n",
    "for x in output:\n",
    "    print(x)"
   ]
  },
  {
   "cell_type": "code",
   "execution_count": 89,
   "id": "e540ceee",
   "metadata": {},
   "outputs": [
    {
     "name": "stdout",
     "output_type": "stream",
     "text": [
      "All the records for India:\n",
      "('Mumbai', 'India', 'Winter', 24.8, 5.9)\n",
      "('Mumbai', 'India', 'Spring', 28.4, 16.2)\n",
      "('Mumbai', 'India', 'Summer', 27.9, 1549.4)\n",
      "('Mumbai', 'India', 'Fall', 27.6, 346.0)\n"
     ]
    }
   ],
   "source": [
    "#c\n",
    "cursor = conn.execute(\"Select * from mydb where Country = 'India'\")\n",
    "output = cursor.fetchall()\n",
    "print('All the records for India:')\n",
    "for x in output:\n",
    "    print(x)"
   ]
  },
  {
   "cell_type": "code",
   "execution_count": 92,
   "id": "34621004",
   "metadata": {},
   "outputs": [
    {
     "name": "stdout",
     "output_type": "stream",
     "text": [
      "All the Fall records:\n",
      "('Mumbai', 'India', 'Fall', 27.6, 346.0)\n",
      "('London', 'United Kingdom', 'Fall', 10.4, 218.5)\n",
      "('Cairo', 'Egypt', 'Fall', 22.2, 4.5)\n"
     ]
    }
   ],
   "source": [
    "#d\n",
    "cursor = conn.execute(\"Select * from mydb where Season = 'Fall'\")\n",
    "output = cursor.fetchall()\n",
    "print('All the Fall records:')\n",
    "for x in output:\n",
    "    print(x)"
   ]
  },
  {
   "cell_type": "code",
   "execution_count": 93,
   "id": "8f7a52bd",
   "metadata": {},
   "outputs": [
    {
     "name": "stdout",
     "output_type": "stream",
     "text": [
      "The city, country, and season for which the average rainfall is between 200 and 400 millimeters:\n",
      "('Mumbai', 'India', 'Fall')\n",
      "('London', 'United Kingdom', 'Winter')\n",
      "('London', 'United Kingdom', 'Fall')\n"
     ]
    }
   ],
   "source": [
    "#e \n",
    "cursor = conn.execute(\"Select City, Country, Season From mydb Where Rainfall Between 200 And 400\")\n",
    "output = cursor.fetchall()\n",
    "print('The city, country, and season for which the average rainfall is between 200 and 400 millimeters:')\n",
    "for x in output:\n",
    "    print(x)"
   ]
  },
  {
   "cell_type": "code",
   "execution_count": 94,
   "id": "84ab77f7",
   "metadata": {},
   "outputs": [
    {
     "name": "stdout",
     "output_type": "stream",
     "text": [
      "The city and country for which the average Fall temperature is above 20 degrees, in increasing temperature order:\n",
      "('Cairo', 'Egypt', 'Fall', 22.2)\n",
      "('Mumbai', 'India', 'Fall', 27.6)\n"
     ]
    }
   ],
   "source": [
    "#f\n",
    "cursor = conn.execute(\"Select City, Country, Season,Temperature From mydb Where Season = 'Fall' and Temperature >20 order by Temperature Asc\")\n",
    "output = cursor.fetchall()\n",
    "print('The city and country for which the average Fall temperature is above 20 degrees, in increasing temperature order:')\n",
    "for x in output:\n",
    "    print(x)"
   ]
  },
  {
   "cell_type": "code",
   "execution_count": 95,
   "id": "a4b28d68",
   "metadata": {},
   "outputs": [
    {
     "name": "stdout",
     "output_type": "stream",
     "text": [
      "The total annual rainfall for Cairo is (27.6,)\n"
     ]
    }
   ],
   "source": [
    "#g\n",
    "cursor = conn.execute(\"Select Sum(Rainfall) from mydb Where City='Cairo'\")\n",
    "output = cursor.fetchall()\n",
    "for x in output:\n",
    "    print('The total annual rainfall for Cairo is',x)"
   ]
  },
  {
   "cell_type": "code",
   "execution_count": 85,
   "id": "de8df7c3",
   "metadata": {},
   "outputs": [
    {
     "name": "stdout",
     "output_type": "stream",
     "text": [
      "The total rainfall from each season is:\n",
      "('Fall', 569.0)\n",
      "('Spring', 192.3)\n",
      "('Summer', 1706.5)\n",
      "('Winter', 230.1)\n"
     ]
    }
   ],
   "source": [
    "#h\n",
    "cursor = conn.execute(\"SELECT Season, Round(Sum(Rainfall),2) From mydb Group By Season\")\n",
    "output = cursor.fetchall()\n",
    "print('The total rainfall from each season is:')\n",
    "for x in output:\n",
    "    print(x)"
   ]
  },
  {
   "cell_type": "markdown",
   "id": "79e4bfb4",
   "metadata": {},
   "source": [
    "# Q9\n",
    "Write list comprehension expressions that use list words and generate the following lists:"
   ]
  },
  {
   "cell_type": "code",
   "execution_count": 1,
   "id": "c8b02d35",
   "metadata": {},
   "outputs": [
    {
     "name": "stdout",
     "output_type": "stream",
     "text": [
      "List words in upper case.\n",
      "['THE', 'QUICK', 'BROWN', 'FOX', 'JUMPS', 'OVER', 'THE', 'LAZY', 'DOG'] \n",
      "\n",
      "List words in lower case.\n",
      "['the', 'quick', 'brown', 'fox', 'jumps', 'over', 'the', 'lazy', 'dog'] \n",
      "\n",
      "The list of lengths of words in list words.\n",
      "[3, 5, 5, 3, 5, 4, 3, 4, 3] \n",
      "\n",
      "The list containing a list for every word of list words, where each list contains the word in uppercase and lowercase and the length of the word.\n",
      "[['THE', 'the', 3], ['QUICK', 'quick', 5], ['BROWN', 'brown', 5], ['FOX', 'fox', 3], ['JUMPS', 'jumps', 5], ['OVER', 'over', 4], ['THE', 'the', 3], ['LAZY', 'lazy', 4], ['DOG', 'dog', 3]] \n",
      "\n",
      "the list of words in list words containing 4 or more characters.\n",
      "['quick', 'brown', 'jumps', 'over', 'lazy']\n"
     ]
    }
   ],
   "source": [
    "words = ['The', 'quick', 'brown', 'fox', 'jumps', 'over','the', 'lazy', 'dog']\n",
    "\n",
    "print(\"List words in upper case.\")\n",
    "print([word.upper() for word in words],\"\\n\")\n",
    "\n",
    "print(\"List words in lower case.\")\n",
    "print([word.lower() for word in words],\"\\n\")\n",
    "\n",
    "print(\"The list of lengths of words in list words.\")\n",
    "print([len(word) for word in words],\"\\n\")\n",
    "\n",
    "print(\"The list containing a list for every word of list words, where each list contains the word in uppercase and lowercase and the length of the word.\")\n",
    "print([[word.upper(), word.lower(), len(word)] for word in words],\"\\n\")\n",
    "\n",
    "print(\"the list of words in list words containing 4 or more characters.\")\n",
    "print([word for word in words if len(word)>=4])"
   ]
  }
 ],
 "metadata": {
  "kernelspec": {
   "display_name": "Python 3 (ipykernel)",
   "language": "python",
   "name": "python3"
  },
  "language_info": {
   "codemirror_mode": {
    "name": "ipython",
    "version": 3
   },
   "file_extension": ".py",
   "mimetype": "text/x-python",
   "name": "python",
   "nbconvert_exporter": "python",
   "pygments_lexer": "ipython3",
   "version": "3.9.7"
  }
 },
 "nbformat": 4,
 "nbformat_minor": 5
}
